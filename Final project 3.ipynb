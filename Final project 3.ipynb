{
 "cells": [
  {
   "cell_type": "markdown",
   "metadata": {},
   "source": [
    "# Job Growth Over Time: A Visualization of Non-farm employees in each U.S. State\n",
    "###### by Pranav Pamidighantam"
   ]
  },
  {
   "cell_type": "markdown",
   "metadata": {},
   "source": [
    "When analyzing the economic health of a country or state, jobs numbers always surface as an indicator. A state with job growth and low unemployment is seen as much more healthy than the alternative. In this vein, when looking at the trend of jobs numbers over time, we can get a sense of how different states' economies developed over time. This analysis focuses on non-farm employees which is defined by the U.S. Bureau of Labor Statistics as \"All Employees: Total Nonfarm, commonly known as Total Nonfarm Payroll, is a measure of the number of U.S. workers in the economy that excludes proprietors, private household employees, unpaid volunteers, farm employees, and the unincorporated self-employed. This measure accounts for approximately 80 percent of the workers who contribute to Gross Domestic Product (GDP).\" \\[U.S. Bureau of Labor Statistics, All Employees, Total Nonfarm [PAYEMS], retrieved from FRED, Federal Reserve Bank of St. Louis; https://fred.stlouisfed.org/series/PAYEMS, December 7, 2020.\\] Using non-farm employees as a base for this analysis will provide us with less noise in the data as farm employees vary over season. In addition, the farm employee trends, as seen in the figure below from [USDA](https://www.ers.usda.gov/topics/farm-economy/farm-labor/#size), have their own pattern which is useful to analyze separate from the broader jobs numbers [\\[Source\\]](https://www.ers.usda.gov/topics/farm-economy/farm-labor/#size). Specifically, we can see that farm employees have decresed significantly over time (most likely due to increases in efficiency of farming techonology, food storage, etc.) and plateau around 1990, but we will see that non-farm jobs tend to increase over time. \n",
    "\n",
    "![](projectimages/farm_emp_over_time.png)\n",
    "\n"
   ]
  },
  {
   "cell_type": "markdown",
   "metadata": {},
   "source": [
    "In addition to looking at trends over time, comparing states based on geography is another angle that is worth looking at. We can see the differences in geographical regions first by looking at farm employee data again as separate from the main dataset in this article. The figure below shows very clearly the modern dominance of farm employment by the pacific region (CA,WA,OR,AK,HI) [\\[Source\\]](https://www.ers.usda.gov/topics/farm-economy/farm-labor/#geography). It is important to note this difference as it allows to understand how non-farm employees represent a different number from total employees as well as how different regions have different industries and that can affect jobs numbers. "
   ]
  },
  {
   "cell_type": "markdown",
   "metadata": {},
   "source": [
    "![](projectimages/farmgeo.png)"
   ]
  },
  {
   "cell_type": "markdown",
   "metadata": {},
   "source": [
    "The below visualization is an interactive graph that uses data from the U.S. Bureau of Labor Statistics. The data at a basic level contains the amount of non-farm employees in each state for each month since January 1939. The visualization allows you to change the date and doing so will allow you to see the numbers in each state colored with states with larger number being more red and yellow. Hovering over a state will display the number associated with that state for the data selected. Then, when you select a state by clicking on it, a line graph will appear showing the selected state's numbers over time. You can select multiple states to compare multiple states over time and deselect states to remove them from the bottom line chart. All of the underlying data is available through [GeoFred: https://geof.red/m/oiC](https://geof.red/m/oiC). Specifically to download the data, under \"Choose Data\" the region type should be \"State\", the data types should be \"All Employees: Total Nonfarm\" \"Not Seasonally Adjusted, Monthly, Thousands of Persons\", the frequency should be \"Monthly\", the units should be\"Thousands of Persons\", and under \"Download\" the start date should be \"1939 January\" and the end date should be \"2020 September\".\n",
    "\n",
    "\n",
    "# Total Non-Farm Employees by State"
   ]
  },
  {
   "cell_type": "code",
   "execution_count": 1,
   "metadata": {
    "tags": [
     "hide-input"
    ]
   },
   "outputs": [
    {
     "data": {
      "application/vnd.jupyter.widget-view+json": {
       "model_id": "4cae403d0d0449339d188588fd468cb5",
       "version_major": 2,
       "version_minor": 0
      },
      "text/plain": [
       "interactive(children=(Dropdown(description='Date', options=('1939 January', '1939 February', '1939 March', '19…"
      ]
     },
     "metadata": {},
     "output_type": "display_data"
    }
   ],
   "source": [
    "import pandas as pd\n",
    "import matplotlib.pyplot as plt\n",
    "import geopandas \n",
    "import ipyleaflet\n",
    "import numpy as np\n",
    "import ipywidgets\n",
    "import fiona\n",
    "import json\n",
    "import IPython\n",
    "from ipyleaflet import Map, GeoData, GeoJSON, Choropleth\n",
    "from branca.colormap import linear\n",
    "\n",
    "dict_of_sheets = pd.read_excel('GeoFRED_All_Employees__Total_Nonfarm_by_State_Thousands_of_Persons.xls',\n",
    "                               sheet_name = [0,1,2,3], skiprows = [0])\n",
    "first_merge = pd.merge(dict_of_sheets[0],dict_of_sheets[1], how = 'left', on = ['Series ID', 'Region Name', 'Region Code']) \n",
    "#https://stackoverflow.com/questions/41815079/pandas-merge-join-two-data-frames-on-multiple-columns\n",
    "second_merge = pd.merge(first_merge,dict_of_sheets[2], how = 'left', on = ['Series ID', 'Region Name', 'Region Code'])\n",
    "total_nonfarm_by_state = pd.merge(second_merge,dict_of_sheets[3], how = 'left', on = ['Series ID', 'Region Name', 'Region Code'])\n",
    "\n",
    "#total_nonfarm_by_state['State_abbr'] = total_nonfarm_by_state['Series ID'][:2][:]\n",
    "total_nonfarm_by_state['State_abbr'] = total_nonfarm_by_state['Series ID'].str[:2] #https://stackoverflow.com/questions/48773767/how-to-slice-column-values-in-python-pandas-dataframe\n",
    "total_nonfarm_by_state = total_nonfarm_by_state.fillna(0)\n",
    "\n",
    "total_nonfarm_by_state['STUSPS'] = total_nonfarm_by_state['State_abbr']\n",
    "\n",
    "gdf_new_small = geopandas.read_file('https://www2.census.gov/geo/tiger/GENZ2019/shp/cb_2019_us_state_20m.zip')\n",
    "\n",
    "gdf_new_small = gdf_new_small.drop([1])\n",
    "gdf_new_small_merged = gdf_new_small.merge(total_nonfarm_by_state, on='STUSPS', how='left')\n",
    "final_gdf_new_small_merged = geopandas.GeoDataFrame(gdf_new_small_merged)\n",
    "final_new_gdf_small = final_gdf_new_small_merged[['geometry','STUSPS']]\n",
    "\n",
    "# final_new_gdf_small.to_file(\"final_new_gdf_small.geojson\", driver='GeoJSON')\n",
    "with open ('final_new_gdf_small.geojson', 'r') as f:\n",
    "    data_small_new = json.load(f)\n",
    "for item in data_small_new['features']:\n",
    "    item['id'] = item['properties']['STUSPS']\n",
    "    \n",
    "curr_states = dict(zip(final_gdf_new_small_merged.STUSPS, [False]*51))\n",
    "@ipywidgets.interact(Date = ipywidgets.Dropdown(options = final_gdf_new_small_merged.columns.values[13:-1]))\n",
    "def plot(Date):\n",
    "    m = Map(center=(40,-100), zoom = 3, title = \"Total non-farm employees by state\")\n",
    "#     out = ipywidgets.Output(layout={'border': '1px solid black'})\n",
    "    def click(event = None, feature = None, id = None, properties = None):\n",
    "        IPython.display.clear_output()\n",
    "        display(m)\n",
    "        curr_states[properties['STUSPS']] = not curr_states[properties['STUSPS']]\n",
    "#         with out:\n",
    "        st_str = ''\n",
    "#         state_selectedlist = []\n",
    "        fig, ax = plt.subplots(figsize = (20,10))\n",
    "        for k,v in curr_states.items():\n",
    "            if v:\n",
    "                st_str += k + ','\n",
    "#                 with out:\n",
    "#                 print('A')\n",
    "#                 state_selectedlist.append(k)\n",
    "                ax.plot(final_gdf_new_small_merged.columns.values[13:-1].flatten(),final_gdf_new_small_merged.loc[final_gdf_new_small_merged['STUSPS']==k,:].iloc[:,13:-1].values.flatten(), label = k)\n",
    "        if st_str:\n",
    "            ax.axvline(x=Date, c = 'black', ls = '--')\n",
    "            plt.legend()\n",
    "            plt.xticks(final_gdf_new_small_merged.columns.values[13:-1:12].flatten(),rotation = 'vertical')\n",
    "        plt.xlabel('Date')\n",
    "        plt.ylabel('Thousands of Non-farm employees')\n",
    "        plt.title('Total non-farm employees by state')\n",
    "        plt.grid(color='grey', linestyle=':', linewidth=1)\n",
    "        st_str = st_str[:-1]\n",
    "#         States_Selected = tuple(state_selectedlist)\n",
    "        wid2.value = 'Currently Selected States:' + st_str\n",
    "        \n",
    "#         print('b')\n",
    "#         print(ax)\n",
    "        return \n",
    "   \n",
    "    def hover(event = None, feature = None, id = None, properties = None):\n",
    "        date = Date\n",
    "        wid1.value = properties['STUSPS'] + ': ' + date + \" -- \" + str(final_gdf_new_small_merged.loc[final_gdf_new_small_merged['STUSPS'] == properties['STUSPS'],date].values[0]) + ' thousand non-farm employees'\n",
    "        return\n",
    "        \n",
    "    chorodata = dict(zip(final_gdf_new_small_merged.STUSPS, final_gdf_new_small_merged[Date]))\n",
    "    geo_data = Choropleth(geo_data = data_small_new,choro_data = chorodata, key_on = 'id', \n",
    "                              hover_style={'fillColor': 'blue' , 'fillOpacity': 0.2},\n",
    "                             colormap=linear.YlOrRd_04,\n",
    "                             style={'fillOpacity': 0.8})\n",
    "    \n",
    "    wid1 = ipywidgets.Label(value='')\n",
    "    st_str = ''\n",
    "    fig, ax = plt.subplots(figsize = (20,10))\n",
    "    for k,v in curr_states.items():\n",
    "        if v:\n",
    "            st_str += k + ','\n",
    "            ax.plot(final_gdf_new_small_merged.columns.values[13:-1].flatten(),final_gdf_new_small_merged.loc[final_gdf_new_small_merged['STUSPS']==k,:].iloc[:,13:-1].values.flatten(), label = k)\n",
    "    if st_str:\n",
    "        ax.axvline(x=Date, c = 'black', ls = '--')\n",
    "        plt.legend()\n",
    "        plt.xticks(final_gdf_new_small_merged.columns.values[13:-1:12].flatten(),rotation = 'vertical')\n",
    "    plt.grid(color='grey', linestyle=':', linewidth=1)\n",
    "    plt.xlabel('Date')\n",
    "    plt.ylabel('Thousands of Non-farm employees')\n",
    "    plt.title('Total non-farm employees over time by state')\n",
    "    st_str = st_str[:-1]\n",
    "    wid2 = ipywidgets.Label(value='Currently Selected States:' + st_str)\n",
    "    summ_stats = Date + '  Stats <p>'\n",
    "    for i in range(1,8):\n",
    "        summ_stats += final_gdf_new_small_merged[Date].describe().index.values[i] + ': ' + str(final_gdf_new_small_merged[Date].describe().values[i].round(2)) + '<p>'\n",
    "#     print(summ_stats)\n",
    "    wid3 = ipywidgets.HTML(value=summ_stats)\n",
    "    geo_data.on_hover(hover)\n",
    "    geo_data.on_click(click)\n",
    "    m.add_control(ipyleaflet.WidgetControl(widget = wid1, position = 'topright'))\n",
    "    m.add_control(ipyleaflet.WidgetControl(widget = wid2, position = 'bottomleft'))\n",
    "    m.add_control(ipyleaflet.WidgetControl(widget = wid3, position = 'bottomright'))\n",
    "    m.add_layer(geo_data)\n",
    "    display(m)"
   ]
  },
  {
   "cell_type": "markdown",
   "metadata": {},
   "source": [
    "In playing around with this visualization, you may notice that certain states (e.g. California, New York, Texas) seems to dominate regardless of the month and year the data is from. This is one of the failings of using jobs data that isn't contextualized by the population of the state. The figures below show the population growth in a few large states for reference. These charts (and their underlying data) all can be accessed through the following link by clicking on the state of interest: [https://fred.stlouisfed.org/release/tables?rid=118&eid=259194](https://fred.stlouisfed.org/release/tables?rid=118&eid=259194). We see here that at present California has about twice as many people as New York, but not twice as many non-farm employees. Thus, as a percentage of population New York has more non-farm employment. Remembering the discussion above, this may indicate that New York has a large percentage of non-farm employees as compared to farm employees, and this would be consistent with the USDA data about regional farm employment. This tell us something about the make up of each states' workforce.\n",
    "\n",
    "\n",
    "![](projectimages/fredgraph_cal.png)\n",
    "\n",
    "![](projectimages/fredgraph_ny.png)\n",
    "\n",
    "![](projectimages/fredgraph_tx.png)\n"
   ]
  },
  {
   "cell_type": "markdown",
   "metadata": {},
   "source": [
    "However, we can still gain insights from this data. Namely, a large portion of the economy of the U.S. at-large will be driven by the states with the most people and most employees, and one can also notice regional trends. For example, both Texas and California surpass New York by a large amount in the modern day, but they start out with lower jobs numbers. In addition, over time more and more states start to have larger amounts of employees. Some regions are relatively consistent. For example, Montana, Wyoming and the Dakotas tend to be on the lower end of non-farm employees throughout history, and the states surrounding New York tend to be behing New York but not by too much. \n",
    "\n",
    "Overall, this visualization gives us an understanding of where the jobs tend to be in the states, and that that distribution is actually getting more equitable over time as more and more states contribute to the picture of non-farm jobs in the U.S."
   ]
  }
 ],
 "metadata": {
  "celltoolbar": "Tags",
  "kernelspec": {
   "display_name": "Python 3",
   "language": "python",
   "name": "python3"
  },
  "language_info": {
   "codemirror_mode": {
    "name": "ipython",
    "version": 3
   },
   "file_extension": ".py",
   "mimetype": "text/x-python",
   "name": "python",
   "nbconvert_exporter": "python",
   "pygments_lexer": "ipython3",
   "version": "3.7.8"
  }
 },
 "nbformat": 4,
 "nbformat_minor": 4
}
